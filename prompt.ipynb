{
 "cells": [
  {
   "cell_type": "code",
   "execution_count": 2,
   "id": "0a909bd7",
   "metadata": {},
   "outputs": [],
   "source": [
    "import getpass\n",
    "import os\n",
    "\n",
    "if not os.environ.get(\"OPENAI_API_KEY\"):\n",
    "    os.environ[\"OPENAI_API_KEY\"] = getpass.getpass(\"Enter API key for OpenAI: \")\n",
    "    os.environ[\"LANGSMITH_TRACING\"] = \"true\"\n",
    "    os.environ[\"LANGSMITH_API_KEY\"] = getpass.getpass(prompt=\"Langsmith APIKEY:\")\n",
    "os.environ[\"LANGSMITH_PROJECT\"] = \"ai-agent-demo\"\n",
    "\n",
    "\n",
    "from langchain.chat_models import init_chat_model\n",
    "from langchain_openai import AzureChatOpenAI\n",
    "\n",
    "\n",
    "model = AzureChatOpenAI(\n",
    "    azure_endpoint=\"https://genai-nexus.int.api.corpinter.net/apikey/\",\n",
    "    azure_deployment=\"gpt-4o-mini\",\n",
    "    api_version=\"2024-06-01\",\n",
    "    api_key=os.environ[\"OPENAI_API_KEY\"],\n",
    ")"
   ]
  },
  {
   "cell_type": "code",
   "execution_count": null,
   "id": "9861a39f",
   "metadata": {},
   "outputs": [],
   "source": [
    "from langchain_core.messages import HumanMessage, SystemMessage\n",
    "\n",
    "messages = [\n",
    "    SystemMessage(content=\"Find out which language is below:\"),\n",
    "    HumanMessage(content=\"Guten Tag!\"),\n",
    "]\n",
    "\n",
    "try:\n",
    "    result = model.invoke((\"what is the date today?\"))\n",
    "    print(result)\n",
    "except Exception as e:\n",
    "    print(f\"An error occurred: {e}\")\n",
    "    \n",
    "# for token in model.stream(messages):\n",
    "#     print(token.content)"
   ]
  },
  {
   "cell_type": "code",
   "execution_count": 10,
   "id": "5a2706b0",
   "metadata": {},
   "outputs": [
    {
     "name": "stdout",
     "output_type": "stream",
     "text": [
      "Ciao!\n"
     ]
    }
   ],
   "source": [
    "from langchain_core.prompts import ChatPromptTemplate\n",
    "\n",
    "system_template = \"Translate the following from English into {language}\"\n",
    "\n",
    "prompt_template = ChatPromptTemplate.from_messages(\n",
    "    [(\"system\", system_template), (\"user\", \"{text}\")]\n",
    ")\n",
    "\n",
    "prompt = prompt_template.invoke({\"language\": \"Italian\", \"text\": \"hi!\"})\n",
    "\n",
    "response = model.invoke(prompt)\n",
    "print(response.content)"
   ]
  }
 ],
 "metadata": {
  "kernelspec": {
   "display_name": "venv",
   "language": "python",
   "name": "python3"
  },
  "language_info": {
   "codemirror_mode": {
    "name": "ipython",
    "version": 3
   },
   "file_extension": ".py",
   "mimetype": "text/x-python",
   "name": "python",
   "nbconvert_exporter": "python",
   "pygments_lexer": "ipython3",
   "version": "3.12.6"
  }
 },
 "nbformat": 4,
 "nbformat_minor": 5
}
