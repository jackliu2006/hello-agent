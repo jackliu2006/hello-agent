{
 "cells": [
  {
   "cell_type": "code",
   "execution_count": 1,
   "id": "b43847f8",
   "metadata": {},
   "outputs": [],
   "source": [
    "import getpass\n",
    "import os\n",
    "\n",
    "os.environ[\"LANGSMITH_TRACING\"] = \"true\"\n",
    "\n",
    "from langchain_openai import AzureOpenAIEmbeddings\n",
    "if not os.environ.get(\"OPENAI_API_KEY\"):\n",
    "    os.environ[\"LANGSMITH_API_KEY\"] = getpass.getpass(prompt=\"Langsmith APIKEY:\")\n",
    "\n",
    "    os.environ[\"OPENAI_API_KEY\"] = getpass.getpass(\"Enter API key for OpenAI: \")\n",
    "\n"
   ]
  },
  {
   "cell_type": "code",
   "execution_count": 2,
   "id": "c5373e71",
   "metadata": {},
   "outputs": [
    {
     "name": "stdout",
     "output_type": "stream",
     "text": [
      "3\n",
      "Xiao  Liu,  Cloud  Architect/Engineer  \n",
      "Filderhauptstr,  51,  Stuttgart,  70599,  Germany,  015561665338,  jackliu2006@gmail.com  \n",
      "  SUMMARY                      \n",
      "CERTIFICATES    \n",
      "Sep  2025     Certif\n",
      "\n",
      "{'producer': 'Skia/PDF m142 Google Docs Renderer', 'creator': 'PyPDF', 'creationdate': '', 'title': 'Xiao Liu_Cloud_Arch_EN', 'source': 'cv.pdf', 'total_pages': 3, 'page': 0, 'page_label': '1'}\n"
     ]
    }
   ],
   "source": [
    "from langchain_community.document_loaders import PyPDFLoader\n",
    "\n",
    "file_path = \"cv.pdf\"\n",
    "loader = PyPDFLoader(file_path)\n",
    "\n",
    "docs = loader.load()\n",
    "\n",
    "print(len(docs))\n",
    "print(f\"{docs[0].page_content[:200]}\\n\")\n",
    "print(docs[0].metadata)"
   ]
  },
  {
   "cell_type": "code",
   "execution_count": 3,
   "id": "8be8d527",
   "metadata": {},
   "outputs": [
    {
     "data": {
      "text/plain": [
       "8"
      ]
     },
     "execution_count": 3,
     "metadata": {},
     "output_type": "execute_result"
    }
   ],
   "source": [
    "from langchain_text_splitters import RecursiveCharacterTextSplitter\n",
    "\n",
    "text_splitter = RecursiveCharacterTextSplitter(\n",
    "    chunk_size=1000, chunk_overlap=200, add_start_index=True\n",
    ")\n",
    "all_splits = text_splitter.split_documents(docs)\n",
    "\n",
    "len(all_splits)"
   ]
  },
  {
   "cell_type": "code",
   "execution_count": 4,
   "id": "35693b25",
   "metadata": {},
   "outputs": [],
   "source": [
    "embeddings = AzureOpenAIEmbeddings(\n",
    "    azure_endpoint=\"https://genai-nexus.int.api.corpinter.net/apikey/\",\n",
    "  #  azure_deployment=\"gpt-4o-mini\",\n",
    "    api_version=\"2024-06-01\",\n",
    "    api_key=os.environ[\"OPENAI_API_KEY\"],\n",
    "    model=\"text-embedding-3-large\"\n",
    ")"
   ]
  },
  {
   "cell_type": "code",
   "execution_count": 5,
   "id": "e76b910c",
   "metadata": {},
   "outputs": [
    {
     "ename": "ModuleNotFoundError",
     "evalue": "No module named 'pymilvus'",
     "output_type": "error",
     "traceback": [
      "\u001b[31m---------------------------------------------------------------------------\u001b[39m",
      "\u001b[31mModuleNotFoundError\u001b[39m                       Traceback (most recent call last)",
      "\u001b[36mCell\u001b[39m\u001b[36m \u001b[39m\u001b[32mIn[5]\u001b[39m\u001b[32m, line 1\u001b[39m\n\u001b[32m----> \u001b[39m\u001b[32m1\u001b[39m \u001b[38;5;28;01mfrom\u001b[39;00m\u001b[38;5;250m \u001b[39m\u001b[34;01mpymilvus\u001b[39;00m\u001b[38;5;250m \u001b[39m\u001b[38;5;28;01mimport\u001b[39;00m Collection, MilvusException, connections, db, utility\n\u001b[32m      3\u001b[39m conn = connections.connect(host=\u001b[33m\"\u001b[39m\u001b[33m127.0.0.1\u001b[39m\u001b[33m\"\u001b[39m, port=\u001b[32m19530\u001b[39m)\n\u001b[32m      5\u001b[39m \u001b[38;5;66;03m# Check if the database exists\u001b[39;00m\n",
      "\u001b[31mModuleNotFoundError\u001b[39m: No module named 'pymilvus'"
     ]
    }
   ],
   "source": [
    "from pymilvus import Collection, MilvusException, connections, db, utility\n",
    "\n",
    "conn = connections.connect(host=\"127.0.0.1\", port=19530)\n",
    "\n",
    "# Check if the database exists\n",
    "db_name = \"mbm_milvus_db\"\n",
    "try:\n",
    "    existing_databases = db.list_database()\n",
    "    if db_name in existing_databases:\n",
    "        print(f\"Database '{db_name}' already exists.\")\n",
    "\n",
    "        # Use the database context\n",
    "        db.using_database(db_name)\n",
    "\n",
    "        # Drop all collections in the database\n",
    "        collections = utility.list_collections()\n",
    "        for collection_name in collections:\n",
    "            collection = Collection(name=collection_name)\n",
    "            collection.drop()\n",
    "            print(f\"Collection '{collection_name}' has been dropped.\")\n",
    "\n",
    "        db.drop_database(db_name)\n",
    "        print(f\"Database '{db_name}' has been deleted.\")\n",
    "    else:\n",
    "        print(f\"Database '{db_name}' does not exist.\")\n",
    "        database = db.create_database(db_name)\n",
    "        print(f\"Database '{db_name}' created successfully.\")\n",
    "except MilvusException as e:\n",
    "    print(f\"An error occurred: {e}\")"
   ]
  }
 ],
 "metadata": {
  "kernelspec": {
   "display_name": "venv",
   "language": "python",
   "name": "python3"
  },
  "language_info": {
   "codemirror_mode": {
    "name": "ipython",
    "version": 3
   },
   "file_extension": ".py",
   "mimetype": "text/x-python",
   "name": "python",
   "nbconvert_exporter": "python",
   "pygments_lexer": "ipython3",
   "version": "3.12.6"
  }
 },
 "nbformat": 4,
 "nbformat_minor": 5
}
