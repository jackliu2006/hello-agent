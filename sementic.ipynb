{
 "cells": [
  {
   "cell_type": "code",
   "execution_count": 8,
   "id": "a36ec2e4",
   "metadata": {},
   "outputs": [
    {
     "name": "stdout",
     "output_type": "stream",
     "text": [
      "Loaded environment variables from: /Users/jackliu2006/workspace/hello-agent/.env\n"
     ]
    }
   ],
   "source": [
    "import os\n",
    "from dotenv import load_dotenv, find_dotenv\n",
    "from getpass import getpass\n",
    "\n",
    "# 1. Try to find and load .env file\n",
    "env_path = find_dotenv()\n",
    "if env_path:\n",
    "    load_dotenv(env_path)\n",
    "    print(f\"Loaded environment variables from: {env_path}\")\n",
    "else:\n",
    "    print(\"⚠️  No .env file found — falling back to manual input.\")\n",
    "\n",
    "# 2. Helper function to fetch or prompt\n",
    "def get_env_var(key, prompt_text=None, secret=False):\n",
    "    \"\"\"Return environment variable or prompt user if missing.\"\"\"\n",
    "    value = os.getenv(key)\n",
    "    if not value:\n",
    "        if secret:\n",
    "            value = getpass(prompt_text or f\"Enter {key}: \")\n",
    "        else:\n",
    "            value = input(prompt_text or f\"Enter {key}: \")\n",
    "        os.environ[key] = value  # optionally keep it in memory\n",
    "    return value\n",
    "\n",
    "# 3. Use it\n",
    "OPENAI_API_KEY = get_env_var(\"OPENAI_API_KEY\", \"OPENAI_API_KEY: \", secret=True)\n",
    "LANGSMITH_API_KEY = get_env_var(\"LANGSMITH_API_KEY\", \"LANGSMITH_API_KEY: \", secret=True)\n",
    "LANGSMITH_TRACING = os.getenv(\"LANGSMITH_TRACING\", \"true\")"
   ]
  },
  {
   "cell_type": "code",
   "execution_count": 9,
   "id": "c5373e71",
   "metadata": {},
   "outputs": [
    {
     "name": "stdout",
     "output_type": "stream",
     "text": [
      "3\n",
      "Xiao  Liu,  Cloud  Architect/Engineer  \n",
      "Filderhauptstr,  51,  Stuttgart,  70599,  Germany,  015561665338,  jackliu2006@gmail.com  \n",
      "  SUMMARY                      \n",
      "CERTIFICATES    \n",
      "Sep  2025     Certif\n",
      "\n",
      "{'producer': 'Skia/PDF m142 Google Docs Renderer', 'creator': 'PyPDF', 'creationdate': '', 'title': 'Xiao Liu_Cloud_Arch_EN', 'source': 'cv.pdf', 'total_pages': 3, 'page': 0, 'page_label': '1'}\n"
     ]
    }
   ],
   "source": [
    "from langchain_community.document_loaders import PyPDFLoader\n",
    "\n",
    "file_path = \"cv.pdf\"\n",
    "loader = PyPDFLoader(file_path)\n",
    "\n",
    "docs = loader.load()\n",
    "\n",
    "print(len(docs))\n",
    "print(f\"{docs[0].page_content[:200]}\\n\")\n",
    "print(docs[0].metadata)"
   ]
  },
  {
   "cell_type": "code",
   "execution_count": 22,
   "id": "35693b25",
   "metadata": {},
   "outputs": [],
   "source": [
    "from langchain_openai import AzureOpenAIEmbeddings\n",
    "\n",
    "embeddings = AzureOpenAIEmbeddings(\n",
    "    azure_endpoint=\"https://genai-nexus.int.api.corpinter.net/apikey/\",\n",
    "    api_version=\"2024-06-01\",\n",
    "    api_key=OPENAI_API_KEY,\n",
    "    model=\"text-embedding-3-large\"\n",
    ")"
   ]
  },
  {
   "cell_type": "code",
   "execution_count": 23,
   "id": "9bde39dd",
   "metadata": {},
   "outputs": [],
   "source": [
    "from langchain_milvus import Milvus\n",
    "\n",
    "URI = \"./milvus_example.db\"\n",
    "\n",
    "vector_store = Milvus(\n",
    "    embedding_function=embeddings,\n",
    "    connection_args={\"uri\": URI},\n",
    "    index_params={\"index_type\": \"FLAT\", \"metric_type\": \"L2\"},\n",
    ")"
   ]
  },
  {
   "cell_type": "code",
   "execution_count": 24,
   "id": "c0b85fe3",
   "metadata": {},
   "outputs": [
    {
     "data": {
      "text/plain": [
       "['4d309db7-574b-47f0-bbb1-f41e5565809c',\n",
       " '7b33558f-c28e-4917-87de-551e9523ef84',\n",
       " '331d3e8d-7dee-41e2-ae5e-031420ee88ec']"
      ]
     },
     "execution_count": 24,
     "metadata": {},
     "output_type": "execute_result"
    }
   ],
   "source": [
    "from uuid import uuid4\n",
    "\n",
    "uuids = [str(uuid4()) for _ in range(len(docs))]\n",
    "vector_store.add_documents(documents=docs, ids=uuids)"
   ]
  }
 ],
 "metadata": {
  "kernelspec": {
   "display_name": "venv",
   "language": "python",
   "name": "python3"
  },
  "language_info": {
   "codemirror_mode": {
    "name": "ipython",
    "version": 3
   },
   "file_extension": ".py",
   "mimetype": "text/x-python",
   "name": "python",
   "nbconvert_exporter": "python",
   "pygments_lexer": "ipython3",
   "version": "3.11.7"
  }
 },
 "nbformat": 4,
 "nbformat_minor": 5
}
